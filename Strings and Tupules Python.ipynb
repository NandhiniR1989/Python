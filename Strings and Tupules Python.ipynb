{
  "nbformat": 4,
  "nbformat_minor": 0,
  "metadata": {
    "colab": {
      "provenance": []
    },
    "kernelspec": {
      "name": "python3",
      "display_name": "Python 3"
    },
    "language_info": {
      "name": "python"
    }
  },
  "cells": [
    {
      "cell_type": "code",
      "execution_count": null,
      "metadata": {
        "colab": {
          "base_uri": "https://localhost:8080/"
        },
        "id": "WTo9VOUfYp-k",
        "outputId": "11bcac88-a9c7-484e-a652-fcf2908249f5"
      },
      "outputs": [
        {
          "output_type": "stream",
          "name": "stdout",
          "text": [
            "Enter your Name: Nandhini\n",
            "Hello Nandhini\n",
            "Hello Nandhini, Welcome to Python Programming\n"
          ]
        }
      ],
      "source": [
        "#STRING CONCATENATION\n",
        "str1 = \"Hello \"\n",
        "str2 = input(\"Enter your Name: \")\n",
        "str3 = str1 + str2\n",
        "print(str3)\n",
        "str4 = str3 + \", Welcome to Python Programming\"\n",
        "print(str4)"
      ]
    },
    {
      "cell_type": "code",
      "source": [
        "#STRING SLICING AND INDEXING\n",
        "#Print the 1st character of the string\n",
        "str4[:1:]"
      ],
      "metadata": {
        "colab": {
          "base_uri": "https://localhost:8080/",
          "height": 35
        },
        "id": "tv1XMBNIVmMk",
        "outputId": "f6c3f6ad-b2b6-4c87-a429-4ae3bfcab745"
      },
      "execution_count": null,
      "outputs": [
        {
          "output_type": "execute_result",
          "data": {
            "text/plain": [
              "'H'"
            ],
            "application/vnd.google.colaboratory.intrinsic+json": {
              "type": "string"
            }
          },
          "metadata": {},
          "execution_count": 34
        }
      ]
    },
    {
      "cell_type": "code",
      "source": [
        "#print the last character of the string\n",
        "str4[:-2:-1]"
      ],
      "metadata": {
        "colab": {
          "base_uri": "https://localhost:8080/",
          "height": 35
        },
        "id": "HHRXziEOZfNI",
        "outputId": "b0d70d6b-b20b-4247-fd70-4236e5652956"
      },
      "execution_count": null,
      "outputs": [
        {
          "output_type": "execute_result",
          "data": {
            "text/plain": [
              "'g'"
            ],
            "application/vnd.google.colaboratory.intrinsic+json": {
              "type": "string"
            }
          },
          "metadata": {},
          "execution_count": 37
        }
      ]
    },
    {
      "cell_type": "code",
      "source": [
        "#Print the first 5 characters of the string.\n",
        "str4[:5:]"
      ],
      "metadata": {
        "colab": {
          "base_uri": "https://localhost:8080/",
          "height": 35
        },
        "id": "tOFLYqgbcHh0",
        "outputId": "7e2c8e9e-22c9-45d7-b26d-4a1d930f55fa"
      },
      "execution_count": null,
      "outputs": [
        {
          "output_type": "execute_result",
          "data": {
            "text/plain": [
              "'Hello'"
            ],
            "application/vnd.google.colaboratory.intrinsic+json": {
              "type": "string"
            }
          },
          "metadata": {},
          "execution_count": 38
        }
      ]
    },
    {
      "cell_type": "code",
      "source": [
        "#Print the last 11 characters of the string.\n",
        "str4[-12::]"
      ],
      "metadata": {
        "colab": {
          "base_uri": "https://localhost:8080/",
          "height": 35
        },
        "id": "3CHjcTiycPl9",
        "outputId": "1a07b724-d6cd-4657-c5b5-b62e73aea7cf"
      },
      "execution_count": null,
      "outputs": [
        {
          "output_type": "execute_result",
          "data": {
            "text/plain": [
              "' Programming'"
            ],
            "application/vnd.google.colaboratory.intrinsic+json": {
              "type": "string"
            }
          },
          "metadata": {},
          "execution_count": 44
        }
      ]
    },
    {
      "cell_type": "code",
      "source": [
        "#Print the string in reverse\n",
        "str4[-1::-1]"
      ],
      "metadata": {
        "colab": {
          "base_uri": "https://localhost:8080/",
          "height": 35
        },
        "id": "0UcBk7XxcwJz",
        "outputId": "5bc026c0-989a-47b0-ee8a-a7d5302dbc05"
      },
      "execution_count": null,
      "outputs": [
        {
          "output_type": "execute_result",
          "data": {
            "text/plain": [
              "'gnimmargorP nohtyP ot emocleW ,inihdnaN olleH'"
            ],
            "application/vnd.google.colaboratory.intrinsic+json": {
              "type": "string"
            }
          },
          "metadata": {},
          "execution_count": 45
        }
      ]
    },
    {
      "cell_type": "code",
      "source": [
        "#Use slicing and print the word “Python” from the existing string.\n",
        "str4[-19:-12:]\n",
        "  #or\n",
        "str4[27:33:]"
      ],
      "metadata": {
        "colab": {
          "base_uri": "https://localhost:8080/",
          "height": 35
        },
        "id": "nIZEd1wfdBOf",
        "outputId": "d9c4b9a9-1adf-43ea-90d6-5497c9f18cbb"
      },
      "execution_count": null,
      "outputs": [
        {
          "output_type": "execute_result",
          "data": {
            "text/plain": [
              "'Python'"
            ],
            "application/vnd.google.colaboratory.intrinsic+json": {
              "type": "string"
            }
          },
          "metadata": {},
          "execution_count": 57
        }
      ]
    },
    {
      "cell_type": "code",
      "source": [
        "#STRING METHODS\n",
        "strM = \"Python beginner tutorial\"\n",
        "#Convert the sentence to uppercase\n",
        "strM.upper()"
      ],
      "metadata": {
        "colab": {
          "base_uri": "https://localhost:8080/",
          "height": 35
        },
        "id": "KASDsMuYgg6R",
        "outputId": "0882565f-658d-4f50-fbf9-b78743154280"
      },
      "execution_count": null,
      "outputs": [
        {
          "output_type": "execute_result",
          "data": {
            "text/plain": [
              "'PYTHON BEGINNER TUTORIAL'"
            ],
            "application/vnd.google.colaboratory.intrinsic+json": {
              "type": "string"
            }
          },
          "metadata": {},
          "execution_count": 6
        }
      ]
    },
    {
      "cell_type": "code",
      "source": [
        "#Convert the sentence to lowercase\n",
        "strM.lower()"
      ],
      "metadata": {
        "colab": {
          "base_uri": "https://localhost:8080/",
          "height": 35
        },
        "id": "ANCNruQ3i4fU",
        "outputId": "1fdae7cc-41ea-41c9-cb19-958d96f34ee5"
      },
      "execution_count": null,
      "outputs": [
        {
          "output_type": "execute_result",
          "data": {
            "text/plain": [
              "'python beginner tutorial'"
            ],
            "application/vnd.google.colaboratory.intrinsic+json": {
              "type": "string"
            }
          },
          "metadata": {},
          "execution_count": 8
        }
      ]
    },
    {
      "cell_type": "code",
      "source": [
        "#Use Capitalize and return the sentence to the original input form\n",
        "strM.capitalize()"
      ],
      "metadata": {
        "colab": {
          "base_uri": "https://localhost:8080/",
          "height": 35
        },
        "id": "TDbFn6YxjDEu",
        "outputId": "756f6a2e-f37e-4a6c-ed69-3bc33bbf91b4"
      },
      "execution_count": null,
      "outputs": [
        {
          "output_type": "execute_result",
          "data": {
            "text/plain": [
              "'Python beginner tutorial'"
            ],
            "application/vnd.google.colaboratory.intrinsic+json": {
              "type": "string"
            }
          },
          "metadata": {},
          "execution_count": 9
        }
      ]
    },
    {
      "cell_type": "code",
      "source": [
        "#Count the total number of occurrences of character ‘t’  in the string\n",
        "strM.count('t')"
      ],
      "metadata": {
        "colab": {
          "base_uri": "https://localhost:8080/"
        },
        "id": "Q9Zj_JTbiznA",
        "outputId": "c37ba35a-c429-491c-c125-4bd86c6f33f9"
      },
      "execution_count": null,
      "outputs": [
        {
          "output_type": "execute_result",
          "data": {
            "text/plain": [
              "3"
            ]
          },
          "metadata": {},
          "execution_count": 10
        }
      ]
    },
    {
      "cell_type": "code",
      "source": [
        "#Replace all occurrences of “Python” with “Machine Learning”  in the input string\n",
        "strM.replace('Python', 'Machine Learning')"
      ],
      "metadata": {
        "colab": {
          "base_uri": "https://localhost:8080/",
          "height": 35
        },
        "id": "9xh3dvhomFF4",
        "outputId": "75aad9e3-68b7-4152-a46d-b401366dcc26"
      },
      "execution_count": null,
      "outputs": [
        {
          "output_type": "execute_result",
          "data": {
            "text/plain": [
              "'Machine Learning beginner tutorial'"
            ],
            "application/vnd.google.colaboratory.intrinsic+json": {
              "type": "string"
            }
          },
          "metadata": {},
          "execution_count": 14
        }
      ]
    },
    {
      "cell_type": "code",
      "source": [
        "#TUPLES\n",
        "#Create Tuples\n",
        "Tup1 = [10, 20, 30]\n",
        "Tup2 = [40, 50, 60]\n",
        "print(Tup1)\n",
        "print(Tup2)"
      ],
      "metadata": {
        "colab": {
          "base_uri": "https://localhost:8080/"
        },
        "id": "7os1Va8Aj29s",
        "outputId": "8bb2e7b6-eb1d-4215-9f17-bbe05f08ccfa"
      },
      "execution_count": null,
      "outputs": [
        {
          "output_type": "stream",
          "name": "stdout",
          "text": [
            "[10, 20, 30]\n",
            "[40, 50, 60]\n"
          ]
        }
      ]
    },
    {
      "cell_type": "code",
      "source": [
        "#Concatenate the two tuples and store it in “t_combine”\n",
        "t_combine = Tup1 + Tup2\n",
        "print(t_combine)"
      ],
      "metadata": {
        "colab": {
          "base_uri": "https://localhost:8080/"
        },
        "id": "-2w1SZ0sji8I",
        "outputId": "f59fb917-1b40-43f2-efb8-af23607473d2"
      },
      "execution_count": null,
      "outputs": [
        {
          "output_type": "stream",
          "name": "stdout",
          "text": [
            "[10, 20, 30, 40, 50, 60]\n"
          ]
        }
      ]
    },
    {
      "cell_type": "code",
      "source": [
        "#Repeat the elements of “t_combine” 3 times\n",
        "t_combine * 3"
      ],
      "metadata": {
        "colab": {
          "base_uri": "https://localhost:8080/"
        },
        "id": "ZiEvdkaanLFE",
        "outputId": "11c9c03f-40c3-41b9-fc8e-d2897440c3ff"
      },
      "execution_count": null,
      "outputs": [
        {
          "output_type": "execute_result",
          "data": {
            "text/plain": [
              "[10, 20, 30, 40, 50, 60, 10, 20, 30, 40, 50, 60, 10, 20, 30, 40, 50, 60]"
            ]
          },
          "metadata": {},
          "execution_count": 18
        }
      ]
    },
    {
      "cell_type": "code",
      "source": [
        " #Access the 3rd element from “t_combine”\n",
        " t_combine[2]"
      ],
      "metadata": {
        "colab": {
          "base_uri": "https://localhost:8080/"
        },
        "id": "KSqWB7lDnm9j",
        "outputId": "226c835f-4439-4c4e-831d-e131e14887a3"
      },
      "execution_count": null,
      "outputs": [
        {
          "output_type": "execute_result",
          "data": {
            "text/plain": [
              "30"
            ]
          },
          "metadata": {},
          "execution_count": 20
        }
      ]
    },
    {
      "cell_type": "code",
      "source": [
        "# Access the first 3 elements from “t_combine”\n",
        "t_combine[:3:]"
      ],
      "metadata": {
        "colab": {
          "base_uri": "https://localhost:8080/"
        },
        "id": "QqvWWMatn24_",
        "outputId": "96786c75-e1d8-4afd-b26b-ceb14c416b2a"
      },
      "execution_count": null,
      "outputs": [
        {
          "output_type": "execute_result",
          "data": {
            "text/plain": [
              "[10, 20, 30]"
            ]
          },
          "metadata": {},
          "execution_count": 21
        }
      ]
    },
    {
      "cell_type": "code",
      "source": [
        "#Access the last 3 elements from \"t_combine\"\n",
        "t_combine[-1:-4:-1]"
      ],
      "metadata": {
        "colab": {
          "base_uri": "https://localhost:8080/"
        },
        "id": "ZpegtB-roXR_",
        "outputId": "f49897fa-4b65-4f70-a65b-5ba2b86bd372"
      },
      "execution_count": null,
      "outputs": [
        {
          "output_type": "execute_result",
          "data": {
            "text/plain": [
              "[60, 50, 40]"
            ]
          },
          "metadata": {},
          "execution_count": 25
        }
      ]
    }
  ]
}