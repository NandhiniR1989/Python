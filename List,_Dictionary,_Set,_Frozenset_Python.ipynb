{
  "cells": [
    {
      "cell_type": "markdown",
      "source": [
        "**PYTHON ASSIGNMENT 2 - LIST, DICTIONARY, SET, FROZENSET**"
      ],
      "metadata": {
        "id": "eOxpTxQt7bBJ"
      }
    },
    {
      "cell_type": "code",
      "source": [
        "#List Creation\n",
        "\n",
        "age_list = [24,25,26,27,28]\n",
        "name_list = ['nandy','rakesh','atharvaa','valli','rathnam']\n",
        "print(age_list)\n",
        "print(name_list)"
      ],
      "metadata": {
        "id": "rg7Ac5fK7tfx",
        "colab": {
          "base_uri": "https://localhost:8080/"
        },
        "outputId": "acd7ab80-4210-4b9b-d255-428971ae5dc4"
      },
      "execution_count": null,
      "outputs": [
        {
          "output_type": "stream",
          "name": "stdout",
          "text": [
            "[24, 25, 26, 27, 28]\n",
            "['nandy', 'rakesh', 'atharvaa', 'valli', 'rathnam']\n"
          ]
        }
      ]
    },
    {
      "cell_type": "markdown",
      "source": [
        "***LIST OPERATIONS/MODIFICATIONS***"
      ],
      "metadata": {
        "id": "O_rFcuFedo2q"
      }
    },
    {
      "cell_type": "code",
      "source": [
        "#Append the string \"Yazhini\" to name_list.\n",
        "name_list.append('Yazhini')\n",
        "print(name_list)"
      ],
      "metadata": {
        "colab": {
          "base_uri": "https://localhost:8080/"
        },
        "id": "fZRhIj3o_sHW",
        "outputId": "8e43fc86-a3fd-4c8b-8813-e6d192aeee0d"
      },
      "execution_count": null,
      "outputs": [
        {
          "output_type": "stream",
          "name": "stdout",
          "text": [
            "['nandy', 'rakesh', 'atharvaa', 'valli', 'rathnam', 'Yazhini']\n"
          ]
        }
      ]
    },
    {
      "cell_type": "code",
      "source": [
        "#Insert the element 30 at index 2 in age_list\n",
        "age_list.insert(2, 30)\n",
        "print(age_list)"
      ],
      "metadata": {
        "colab": {
          "base_uri": "https://localhost:8080/"
        },
        "id": "tQEsZQEqBQ3H",
        "outputId": "eae104be-009e-4091-ca2d-974be1b8f52a"
      },
      "execution_count": null,
      "outputs": [
        {
          "output_type": "stream",
          "name": "stdout",
          "text": [
            "[24, 25, 30, 26, 27, 28]\n"
          ]
        }
      ]
    },
    {
      "cell_type": "code",
      "source": [
        "#Remove the string \"Yazhini\" from name_list\n",
        "name_list.remove('Yazhini')\n",
        "print(name_list)"
      ],
      "metadata": {
        "colab": {
          "base_uri": "https://localhost:8080/"
        },
        "id": "gpXWxpLrBp8x",
        "outputId": "c16b6dec-bb94-4b27-bfa1-3d7cf4b6ad43"
      },
      "execution_count": null,
      "outputs": [
        {
          "output_type": "stream",
          "name": "stdout",
          "text": [
            "['nandy', 'rakesh', 'atharvaa', 'valli', 'rathnam']\n"
          ]
        }
      ]
    },
    {
      "cell_type": "code",
      "source": [
        "#Pop the last element from age_list\n",
        "age_list.pop()\n",
        "print(age_list)"
      ],
      "metadata": {
        "colab": {
          "base_uri": "https://localhost:8080/"
        },
        "id": "8QwJWjVcFApB",
        "outputId": "018a7c90-17e9-4d64-a676-6b8adb9883a4"
      },
      "execution_count": null,
      "outputs": [
        {
          "output_type": "stream",
          "name": "stdout",
          "text": [
            "[24, 25, 30, 26, 27]\n"
          ]
        }
      ]
    },
    {
      "cell_type": "code",
      "source": [
        "#Extend the age_list with additional ages [29, 30, 26].\n",
        "age_list.extend([29,30,26])\n",
        "print(age_list)"
      ],
      "metadata": {
        "colab": {
          "base_uri": "https://localhost:8080/"
        },
        "id": "Fe-B6-R9F3Cr",
        "outputId": "8dc72164-9fd4-4d26-dff7-00567f01656f"
      },
      "execution_count": null,
      "outputs": [
        {
          "output_type": "stream",
          "name": "stdout",
          "text": [
            "[24, 25, 30, 26, 27, 29, 30, 26]\n"
          ]
        }
      ]
    },
    {
      "cell_type": "code",
      "source": [
        "#Sort age_list in descending order.\n",
        "age_list.sort(reverse=True)\n",
        "print(age_list)\n"
      ],
      "metadata": {
        "colab": {
          "base_uri": "https://localhost:8080/"
        },
        "id": "7-xeL7TuGZ0O",
        "outputId": "231ee182-a708-4ece-93a6-55e4b46c9b28"
      },
      "execution_count": null,
      "outputs": [
        {
          "output_type": "stream",
          "name": "stdout",
          "text": [
            "[30, 30, 29, 27, 26, 26, 25, 24]\n"
          ]
        }
      ]
    },
    {
      "cell_type": "code",
      "source": [
        "#Find Max age, Min age and sum of all ages from age_list\n",
        "print(min(age_list))\n",
        "print(max(age_list))\n",
        "print(sum(age_list))"
      ],
      "metadata": {
        "id": "khHOKaEQYcOY",
        "colab": {
          "base_uri": "https://localhost:8080/"
        },
        "outputId": "a5e5c91c-b9b2-4337-b47d-497aebb7e3dd"
      },
      "execution_count": null,
      "outputs": [
        {
          "output_type": "stream",
          "name": "stdout",
          "text": [
            "24\n",
            "30\n",
            "217\n"
          ]
        }
      ]
    },
    {
      "cell_type": "code",
      "source": [
        "#Make a copy of age_list and store as age_list_copy\n",
        "age_list_copy = age_list.copy()\n",
        "print(age_list_copy)"
      ],
      "metadata": {
        "id": "Nq-DMqJFbJl1",
        "colab": {
          "base_uri": "https://localhost:8080/"
        },
        "outputId": "8cbb9506-276a-4b33-b50e-c41fcd745eba"
      },
      "execution_count": null,
      "outputs": [
        {
          "output_type": "stream",
          "name": "stdout",
          "text": [
            "[30, 30, 29, 27, 26, 26, 25, 24]\n"
          ]
        }
      ]
    },
    {
      "cell_type": "code",
      "source": [
        "#Clear all elements from age_list_copy\n",
        "age_list_copy.clear()\n",
        "print(age_list_copy)"
      ],
      "metadata": {
        "colab": {
          "base_uri": "https://localhost:8080/"
        },
        "id": "TJu3dQVodQYO",
        "outputId": "faca246f-953b-46e2-c482-276adde73b4f"
      },
      "execution_count": null,
      "outputs": [
        {
          "output_type": "stream",
          "name": "stdout",
          "text": [
            "[]\n"
          ]
        }
      ]
    },
    {
      "cell_type": "markdown",
      "source": [
        "***ACCESSING LIST ELEMENTS***"
      ],
      "metadata": {
        "id": "m3PDMKhYeDhj"
      }
    },
    {
      "cell_type": "code",
      "source": [
        "#Print the first element of name_list\n",
        "name_list[:1:]"
      ],
      "metadata": {
        "colab": {
          "base_uri": "https://localhost:8080/"
        },
        "id": "8YTzrKSFeSAp",
        "outputId": "b80c0867-0a9b-4e85-f608-3e08410f9672"
      },
      "execution_count": null,
      "outputs": [
        {
          "output_type": "execute_result",
          "data": {
            "text/plain": [
              "['nandy']"
            ]
          },
          "metadata": {},
          "execution_count": 17
        }
      ]
    },
    {
      "cell_type": "code",
      "source": [
        "#Print the last element of name_list.\n",
        "name_list[-1::]"
      ],
      "metadata": {
        "colab": {
          "base_uri": "https://localhost:8080/"
        },
        "id": "XXa59D0thl71",
        "outputId": "e6093735-30bc-4c29-8c15-5ad3fa3b229b"
      },
      "execution_count": null,
      "outputs": [
        {
          "output_type": "execute_result",
          "data": {
            "text/plain": [
              "['rathnam']"
            ]
          },
          "metadata": {},
          "execution_count": 21
        }
      ]
    },
    {
      "cell_type": "code",
      "source": [
        "#Print the elements from index 2 to index 4 in name_list.\n",
        "name_list[2:5:]"
      ],
      "metadata": {
        "colab": {
          "base_uri": "https://localhost:8080/"
        },
        "id": "7LIiyJeDh4Qq",
        "outputId": "3aab7894-9157-46dc-b389-123db9537dda"
      },
      "execution_count": null,
      "outputs": [
        {
          "output_type": "execute_result",
          "data": {
            "text/plain": [
              "['atharvaa', 'valli', 'rathnam']"
            ]
          },
          "metadata": {},
          "execution_count": 22
        }
      ]
    },
    {
      "cell_type": "code",
      "source": [
        "#Print the elements of name_list in reverse order.\n",
        "name_list[-1::-1]\n"
      ],
      "metadata": {
        "colab": {
          "base_uri": "https://localhost:8080/"
        },
        "id": "7xbeH7hdiK6n",
        "outputId": "2b6262ce-59de-49fd-8eb8-897bdc48d82a"
      },
      "execution_count": null,
      "outputs": [
        {
          "output_type": "execute_result",
          "data": {
            "text/plain": [
              "['rathnam', 'valli', 'atharvaa', 'rakesh', 'nandy']"
            ]
          },
          "metadata": {},
          "execution_count": 28
        }
      ]
    },
    {
      "cell_type": "code",
      "source": [
        "#Create a list called list_dup = [1, 2, 1, 1, 3, 1, 2, 5, 9, 1] and print the number of times element ‘1’ has occurred.\n",
        "list_dup = [1,2,1,1,3,1,2,5,9,1]\n",
        "list_dup.count(1)"
      ],
      "metadata": {
        "colab": {
          "base_uri": "https://localhost:8080/"
        },
        "id": "HU7DFWtHivQZ",
        "outputId": "9aa0020e-ad93-401a-f7c0-0a10f8611a63"
      },
      "execution_count": null,
      "outputs": [
        {
          "output_type": "execute_result",
          "data": {
            "text/plain": [
              "5"
            ]
          },
          "metadata": {},
          "execution_count": 34
        }
      ]
    },
    {
      "cell_type": "code",
      "source": [
        "#Print length of list_dup.\n",
        "len(list_dup)"
      ],
      "metadata": {
        "colab": {
          "base_uri": "https://localhost:8080/"
        },
        "id": "PvZnRGVClwYr",
        "outputId": "55634038-ea14-44ec-a647-0f78e09eeb2b"
      },
      "execution_count": null,
      "outputs": [
        {
          "output_type": "execute_result",
          "data": {
            "text/plain": [
              "10"
            ]
          },
          "metadata": {},
          "execution_count": 35
        }
      ]
    },
    {
      "cell_type": "markdown",
      "source": [
        "**DICTIONARY**"
      ],
      "metadata": {
        "id": "OeTVXbl5mYvU"
      }
    },
    {
      "cell_type": "code",
      "source": [
        "#Dictionary Creation\n",
        "student_marks = {'Arthee':85, 'Banu':80, 'Charan':99, 'Ethan':65, 'Farooq':76}\n",
        "student_marks"
      ],
      "metadata": {
        "id": "R0nxwy-VmlUz",
        "colab": {
          "base_uri": "https://localhost:8080/"
        },
        "outputId": "e51662b2-9883-45ab-d6af-b59f8d131645"
      },
      "execution_count": null,
      "outputs": [
        {
          "output_type": "execute_result",
          "data": {
            "text/plain": [
              "{'Arthee': 85, 'Banu': 80, 'Charan': 99, 'Ethan': 65, 'Farooq': 76}"
            ]
          },
          "metadata": {},
          "execution_count": 11
        }
      ]
    },
    {
      "cell_type": "code",
      "source": [
        "student_marks['Arthee']\n"
      ],
      "metadata": {
        "colab": {
          "base_uri": "https://localhost:8080/"
        },
        "id": "28GhJi52Qwmh",
        "outputId": "bac03234-b370-48a5-f52e-05285be5e383"
      },
      "execution_count": null,
      "outputs": [
        {
          "output_type": "execute_result",
          "data": {
            "text/plain": [
              "85"
            ]
          },
          "metadata": {},
          "execution_count": 12
        }
      ]
    },
    {
      "cell_type": "code",
      "source": [
        "#Dictionary Modifications & Access:\n",
        "#Add New student\n",
        "student_marks['Janani'] = 80\n",
        "student_marks"
      ],
      "metadata": {
        "colab": {
          "base_uri": "https://localhost:8080/"
        },
        "id": "naVuspAGRIgM",
        "outputId": "e89d55d8-03c0-4abe-d5b9-2c4103b881a6"
      },
      "execution_count": null,
      "outputs": [
        {
          "output_type": "execute_result",
          "data": {
            "text/plain": [
              "{'Arthee': 85,\n",
              " 'Banu': 80,\n",
              " 'Charan': 99,\n",
              " 'Ethan': 65,\n",
              " 'Farooq': 76,\n",
              " 'Janani': 80}"
            ]
          },
          "metadata": {},
          "execution_count": 13
        }
      ]
    },
    {
      "cell_type": "code",
      "source": [
        "#Modify the Old Student Mark\n",
        "student_marks['Banu'] = 82\n",
        "student_marks"
      ],
      "metadata": {
        "colab": {
          "base_uri": "https://localhost:8080/"
        },
        "id": "WBQaSVtmR4eI",
        "outputId": "c8d23080-8625-4427-eb98-a07589c88c25"
      },
      "execution_count": null,
      "outputs": [
        {
          "output_type": "execute_result",
          "data": {
            "text/plain": [
              "{'Arthee': 85,\n",
              " 'Banu': 82,\n",
              " 'Charan': 99,\n",
              " 'Ethan': 65,\n",
              " 'Farooq': 76,\n",
              " 'Janani': 80}"
            ]
          },
          "metadata": {},
          "execution_count": 14
        }
      ]
    },
    {
      "cell_type": "code",
      "source": [
        "#Keys Method\n",
        "student_marks.keys()"
      ],
      "metadata": {
        "colab": {
          "base_uri": "https://localhost:8080/"
        },
        "id": "oap-tqIvTWx6",
        "outputId": "080010c8-330a-4d77-8198-0568e23b637e"
      },
      "execution_count": null,
      "outputs": [
        {
          "output_type": "execute_result",
          "data": {
            "text/plain": [
              "dict_keys(['Arthee', 'Banu', 'Charan', 'Ethan', 'Farooq', 'Janani'])"
            ]
          },
          "metadata": {},
          "execution_count": 15
        }
      ]
    },
    {
      "cell_type": "code",
      "source": [
        "#Values Method\n",
        "student_marks.values()"
      ],
      "metadata": {
        "colab": {
          "base_uri": "https://localhost:8080/"
        },
        "id": "-SJ1cDH-TiGe",
        "outputId": "3349ae45-aa5e-4c06-820c-f876742198e8"
      },
      "execution_count": null,
      "outputs": [
        {
          "output_type": "execute_result",
          "data": {
            "text/plain": [
              "dict_values([85, 82, 99, 65, 76, 80])"
            ]
          },
          "metadata": {},
          "execution_count": 16
        }
      ]
    },
    {
      "cell_type": "code",
      "source": [
        "#Items Method\n",
        "student_marks.items()"
      ],
      "metadata": {
        "colab": {
          "base_uri": "https://localhost:8080/"
        },
        "id": "HbRpLAyATn-M",
        "outputId": "93ebb287-cdc9-4ebf-9cd8-086588546e45"
      },
      "execution_count": null,
      "outputs": [
        {
          "output_type": "execute_result",
          "data": {
            "text/plain": [
              "dict_items([('Arthee', 85), ('Banu', 82), ('Charan', 99), ('Ethan', 65), ('Farooq', 76), ('Janani', 80)])"
            ]
          },
          "metadata": {},
          "execution_count": 17
        }
      ]
    },
    {
      "cell_type": "markdown",
      "source": [
        "**SETS AND FROZEN**"
      ],
      "metadata": {
        "id": "0h5YoevjVhxC"
      }
    },
    {
      "cell_type": "markdown",
      "source": [
        "***SETS***"
      ],
      "metadata": {
        "id": "I4WHEm7FVyv6"
      }
    },
    {
      "cell_type": "code",
      "source": [
        "my_set = {'a','e','i','o','u','a','a','i'}\n",
        "my_set\n",
        "#Sets does not allow duplicates and does not maintain the same order always"
      ],
      "metadata": {
        "colab": {
          "base_uri": "https://localhost:8080/"
        },
        "id": "YTBkCL54VeNV",
        "outputId": "25841dcf-20b3-4dba-8a65-ad66212b2948"
      },
      "execution_count": null,
      "outputs": [
        {
          "output_type": "execute_result",
          "data": {
            "text/plain": [
              "{'a', 'e', 'i', 'o', 'u'}"
            ]
          },
          "metadata": {},
          "execution_count": 24
        }
      ]
    },
    {
      "cell_type": "code",
      "source": [
        "my_set[4] = 's'\n",
        "#Set Object doesnot support item Assignment"
      ],
      "metadata": {
        "colab": {
          "base_uri": "https://localhost:8080/",
          "height": 141
        },
        "id": "PNur5aFGY_QG",
        "outputId": "d2efc264-bb6f-4503-f2b7-f118be41aead"
      },
      "execution_count": null,
      "outputs": [
        {
          "output_type": "error",
          "ename": "TypeError",
          "evalue": "'set' object does not support item assignment",
          "traceback": [
            "\u001b[0;31m---------------------------------------------------------------------------\u001b[0m",
            "\u001b[0;31mTypeError\u001b[0m                                 Traceback (most recent call last)",
            "\u001b[0;32m<ipython-input-25-6e3a57e04103>\u001b[0m in \u001b[0;36m<cell line: 1>\u001b[0;34m()\u001b[0m\n\u001b[0;32m----> 1\u001b[0;31m \u001b[0mmy_set\u001b[0m\u001b[0;34m[\u001b[0m\u001b[0;36m4\u001b[0m\u001b[0;34m]\u001b[0m \u001b[0;34m=\u001b[0m \u001b[0;34m's'\u001b[0m\u001b[0;34m\u001b[0m\u001b[0;34m\u001b[0m\u001b[0m\n\u001b[0m",
            "\u001b[0;31mTypeError\u001b[0m: 'set' object does not support item assignment"
          ]
        }
      ]
    },
    {
      "cell_type": "code",
      "source": [
        "\n",
        "set1 = {1, 3, 5, 7, 9}\n",
        "set2 = {2, 3, 5, 8, 10}\n",
        "#Union Set\n",
        "union_set = set1 | set2\n",
        "print(union_set)"
      ],
      "metadata": {
        "colab": {
          "base_uri": "https://localhost:8080/"
        },
        "id": "pWeSXMSCcYN0",
        "outputId": "a5afe0af-1198-49b2-afd7-de72411cd9c6"
      },
      "execution_count": null,
      "outputs": [
        {
          "output_type": "stream",
          "name": "stdout",
          "text": [
            "{1, 2, 3, 5, 7, 8, 9, 10}\n"
          ]
        }
      ]
    },
    {
      "cell_type": "code",
      "source": [
        "#intersection Set\n",
        "intersection_set = set1 & set2\n",
        "print(intersection_set)"
      ],
      "metadata": {
        "colab": {
          "base_uri": "https://localhost:8080/"
        },
        "id": "qBHcIkZbdNYh",
        "outputId": "90b038c3-003a-40f4-b0cb-114702ed4433"
      },
      "execution_count": null,
      "outputs": [
        {
          "output_type": "stream",
          "name": "stdout",
          "text": [
            "{3, 5}\n"
          ]
        }
      ]
    },
    {
      "cell_type": "markdown",
      "source": [
        " ***FROZENSETS***"
      ],
      "metadata": {
        "id": "vPLMVO_wiDGz"
      }
    },
    {
      "cell_type": "code",
      "source": [
        "immutable_set = frozenset([1, 2, 3, 4, 5])\n",
        "print(immutable_set)"
      ],
      "metadata": {
        "colab": {
          "base_uri": "https://localhost:8080/"
        },
        "id": "ae_d5BiYh-uq",
        "outputId": "060e8378-64ce-42a8-fc1d-6f0376ca317c"
      },
      "execution_count": null,
      "outputs": [
        {
          "output_type": "stream",
          "name": "stdout",
          "text": [
            "frozenset({1, 2, 3, 4, 5})\n"
          ]
        }
      ]
    },
    {
      "cell_type": "code",
      "source": [
        "immutable_set.add(6)"
      ],
      "metadata": {
        "colab": {
          "base_uri": "https://localhost:8080/",
          "height": 141
        },
        "id": "s1UVUzHXmJeJ",
        "outputId": "6c833f4e-97b6-4ab5-b583-d07c56cd577a"
      },
      "execution_count": null,
      "outputs": [
        {
          "output_type": "error",
          "ename": "AttributeError",
          "evalue": "'frozenset' object has no attribute 'add'",
          "traceback": [
            "\u001b[0;31m---------------------------------------------------------------------------\u001b[0m",
            "\u001b[0;31mAttributeError\u001b[0m                            Traceback (most recent call last)",
            "\u001b[0;32m<ipython-input-2-de729453b635>\u001b[0m in \u001b[0;36m<cell line: 1>\u001b[0;34m()\u001b[0m\n\u001b[0;32m----> 1\u001b[0;31m \u001b[0mimmutable_set\u001b[0m\u001b[0;34m.\u001b[0m\u001b[0madd\u001b[0m\u001b[0;34m(\u001b[0m\u001b[0;36m6\u001b[0m\u001b[0;34m)\u001b[0m\u001b[0;34m\u001b[0m\u001b[0;34m\u001b[0m\u001b[0m\n\u001b[0m",
            "\u001b[0;31mAttributeError\u001b[0m: 'frozenset' object has no attribute 'add'"
          ]
        }
      ]
    }
  ],
  "metadata": {
    "colab": {
      "provenance": []
    },
    "kernelspec": {
      "display_name": "Python 3",
      "name": "python3"
    },
    "language_info": {
      "name": "python"
    }
  },
  "nbformat": 4,
  "nbformat_minor": 0
}