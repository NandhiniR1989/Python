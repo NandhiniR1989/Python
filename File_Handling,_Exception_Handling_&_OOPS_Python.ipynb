{
  "nbformat": 4,
  "nbformat_minor": 0,
  "metadata": {
    "colab": {
      "provenance": []
    },
    "kernelspec": {
      "name": "python3",
      "display_name": "Python 3"
    },
    "language_info": {
      "name": "python"
    }
  },
  "cells": [
    {
      "cell_type": "markdown",
      "source": [
        "#**FILE HANDLING**"
      ],
      "metadata": {
        "id": "lfyeA4V_L8JS"
      }
    },
    {
      "cell_type": "code",
      "source": [
        "#Prompt the user to enter their name, age, and favorite color\n",
        "name = input(\"Enter the name: \")\n",
        "Age = input(\"Enter the Age: \")\n",
        "Fav_Color = input(\"Enter the favorite Colour: \")\n",
        "\n",
        "#Save this information to a text file named user_info.txt.\n",
        "file = open('/content/user_info.txt','w')\n",
        "with open('user_info.txt','w') as file:\n",
        "  file.write(f\"Name: {name}\\n\")\n",
        "  file.write(f\"Age: {Age}\\n\")\n",
        "  file.write(f\"Favourite Colour: {Fav_Color}\\n\")\n",
        "\n",
        "#Read the content of user_info.txt and display it on the console.\n",
        "with open('/content/user_info.txt','r') as file:\n",
        "  data = file.read()\n",
        "  print(data)\n",
        "\n",
        "#Prompt the user to enter their favorite movie\n",
        "Fav_Movie = input(\"Enter the favorite Movie: \")\n",
        "\n",
        "#append this new piece of information to the file user_info.txt\n",
        "with open('/content/user_info.txt','a') as file:\n",
        "    file.write(f\"Favorite Movie: {Fav_Movie}\\n\")\n",
        "\n",
        "#Read all the lines from user_info.txt and display each line on the console, one by one.\n",
        "with open('user_info.txt', 'r') as file:\n",
        "    lines = file.readlines()\n",
        "    Line = 0\n",
        "\n",
        "while Line < len(lines):\n",
        "    Content = lines[Line]\n",
        "    print(Content)\n",
        "    Line += 1\n",
        "\n"
      ],
      "metadata": {
        "colab": {
          "base_uri": "https://localhost:8080/"
        },
        "id": "xYgFjDhwCFMn",
        "outputId": "87ba3219-0277-487c-bf9b-9485e1fb42f6"
      },
      "execution_count": null,
      "outputs": [
        {
          "output_type": "stream",
          "name": "stdout",
          "text": [
            "Enter the name: Atharvaa Eshwar\n",
            "Enter the Age: 7\n",
            "Enter the favorite Colour: Blue\n",
            "Name: Atharvaa Eshwar\n",
            "Age: 7\n",
            "Favourite Colour: Blue\n",
            "\n",
            "Enter the favoutite Movie: Biggle\n",
            "Name: Atharvaa Eshwar\n",
            "\n",
            "Age: 7\n",
            "\n",
            "Favourite Colour: Blue\n",
            "\n",
            "Favourite Movie: Biggle\n",
            "\n"
          ]
        }
      ]
    },
    {
      "cell_type": "markdown",
      "source": [
        "##**EXCEPTION HANDLING**"
      ],
      "metadata": {
        "id": "hlseB_ltXrY0"
      }
    },
    {
      "cell_type": "code",
      "source": [
        "try:\n",
        "  print(\"Try block:\")\n",
        "  #Prompting for User Input\n",
        "  celsius_input = input(\"Enter temperature in Celsius: \")\n",
        "  #Convert the input to a float\n",
        "  celsius = float(celsius_input)\n",
        "  #Converting Celsius to Fahrenheit\n",
        "  Fahrenheit = (celsius * 9/5) + 32\n",
        "\n",
        "except ZeroDivisionError:\n",
        "  print(\"Exception block - ZeroDivisionError:\")\n",
        "  print(\"\\t Division by 0 is not allowed!\")\n",
        "\n",
        "except TypeError as error:\n",
        "  print(\"Exception block - TypeError:\")\n",
        "  print(\"Arithmetic operations cannot be performed on incompatible types\")\n",
        "  print(\"\\t A Type error occured:- \", error)\n",
        "\n",
        "except ValueError as value:\n",
        "  print(\"Exception block - ValueError:\")\n",
        "  print(\"Invalid input! Please enter a numeric value.\")\n",
        "  print(\"\\t A Value error occured:- \", value)\n",
        "\n",
        "except Exception as e:\n",
        "  print(\"Exception block:\")\n",
        "  print(\"An error occured:- \", e)\n",
        "\n",
        "else:\n",
        "  print(\"Else block:\")\n",
        "  print(f\"{celsius}°C is equal to {Fahrenheit}°F\")\n",
        "\n",
        "finally:\n",
        "  print(\"Finally block reperesents end of the program\")\n",
        "\n",
        "print(\"Out of the try..except..else..finally blocks\")\n"
      ],
      "metadata": {
        "colab": {
          "base_uri": "https://localhost:8080/"
        },
        "id": "TvvSuorGQhsn",
        "outputId": "06bc47b9-85ad-4d79-e344-2411559bb1e9"
      },
      "execution_count": null,
      "outputs": [
        {
          "output_type": "stream",
          "name": "stdout",
          "text": [
            "Try block:\n",
            "Enter temperature in Celsius: 37\n",
            "Else block:\n",
            "37.0°C is equal to 98.6°F\n",
            "Finally block reperesents end of the program\n",
            "Out of the try..except..else..finally blocks\n"
          ]
        }
      ]
    },
    {
      "cell_type": "markdown",
      "source": [
        "##**OOPS**"
      ],
      "metadata": {
        "id": "EOn6ZkWFkuKQ"
      }
    },
    {
      "cell_type": "code",
      "source": [
        "class Library:  #Class Created\n",
        "\n",
        "    def __init__(self, book_title, year_published): #Methods with attributes\n",
        "        self.book_title = book_title\n",
        "        self.year_published = year_published\n",
        "\n",
        "    def display_info(self): #Methods with attributes\n",
        "      print(f\"Book Title = {self.book_title}\")\n",
        "      print(f\"Year Published = {self.year_published}\")"
      ],
      "metadata": {
        "id": "n01Tfzfrk2Qp"
      },
      "execution_count": null,
      "outputs": []
    },
    {
      "cell_type": "code",
      "source": [
        "#Created Objects\n",
        "\n",
        "book1 = Library(\"Core Java\",2013)\n",
        "book2 = Library('Programming Python', 2020)\n",
        "\n",
        "#Called the methods to display\n",
        "book1.display_info()\n",
        "book2.display_info()"
      ],
      "metadata": {
        "colab": {
          "base_uri": "https://localhost:8080/"
        },
        "id": "4UvTxTkwICCb",
        "outputId": "62d3e575-2911-4bec-b184-6d4f5d1c7bc4"
      },
      "execution_count": null,
      "outputs": [
        {
          "output_type": "stream",
          "name": "stdout",
          "text": [
            "Book Title = Core Java\n",
            "Year Published = 2013\n",
            "Book Title = Programming Python\n",
            "Year Published = 2020\n"
          ]
        }
      ]
    }
  ]
}