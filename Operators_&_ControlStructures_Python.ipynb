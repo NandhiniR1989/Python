{
  "nbformat": 4,
  "nbformat_minor": 0,
  "metadata": {
    "colab": {
      "provenance": []
    },
    "kernelspec": {
      "name": "python3",
      "display_name": "Python 3"
    },
    "language_info": {
      "name": "python"
    }
  },
  "cells": [
    {
      "cell_type": "markdown",
      "source": [
        "**OPERATIONS** **AND** **CONDITIONAL** **STATEMENT** ***USING IF,ELIF,ELSE***"
      ],
      "metadata": {
        "id": "LPvRW_h2-kLi"
      }
    },
    {
      "cell_type": "code",
      "execution_count": null,
      "metadata": {
        "colab": {
          "base_uri": "https://localhost:8080/"
        },
        "id": "Y95ixRdw7kUh",
        "outputId": "ad791790-e378-4ed7-c29e-bce919766982"
      },
      "outputs": [
        {
          "output_type": "stream",
          "name": "stdout",
          "text": [
            "Enter your score (0 to 10): 12\n",
            "Enter Correct Score: Score range is between 0 to 10\n"
          ]
        }
      ],
      "source": [
        "# Prompt user for input\n",
        "score = int(input(\"Enter your score (0 to 10): \"))\n",
        "# Determine performance category based on the score\n",
        "if score > 10:\n",
        "   category = \"Enter Correct Score\"\n",
        "   message = \"Score range is between 0 to 10\"\n",
        "elif 10 <= score > 7:\n",
        "    category = \"Above Average\"\n",
        "    message = \"Excellent work! Keep it up.\"\n",
        "elif 4 <= score <= 7:\n",
        "    category = \"Average\"\n",
        "    message = \"Good effort! Keep practicing, there's room for improvement.\"\n",
        "else:\n",
        "    category = \"Below Average\"\n",
        "    message = \"Need to improve your performance, consistent practice will lead to better results.\"\n",
        "# Print the performance category and message\n",
        "print(f\"{category}: {message}\")\n"
      ]
    },
    {
      "cell_type": "markdown",
      "source": [
        "**WHILE LOOP & CONTROL STATEMENT(else, break, continue, pass)**"
      ],
      "metadata": {
        "id": "iQpk2i6C-QGI"
      }
    },
    {
      "cell_type": "code",
      "source": [
        "import random\n",
        "\n",
        "# Generate random number between 1 and 10\n",
        "secret_number = random.randint(1, 10)\n",
        "\n",
        "# Set the maximum number of attempts\n",
        "attempts = 3\n",
        "\n",
        "while attempts > 0:\n",
        "    # Prompt the user to guess the number\n",
        "    guess = int(input(\"Guess the number (between 1 and 10): \"))\n",
        "\n",
        "    # Check if the guess is out of range\n",
        "    if guess < 1 or guess > 10:\n",
        "        print(\"Your guess is out of range. Please guess a number between 1 and 10.\")\n",
        "        continue\n",
        "\n",
        "    # Decrease the number of attempts left\n",
        "    attempts -= 1\n",
        "\n",
        "    # Check if the guess is correct\n",
        "    if guess == secret_number:\n",
        "        print(\"Congratulations! You guessed the correct number.\")\n",
        "        break\n",
        "    elif guess < secret_number:\n",
        "        print(\"Too low. Try again.\")\n",
        "    else:\n",
        "        print(\"Too high. Try again.\")\n",
        "else:\n",
        "    print(\"Better luck next time! The correct number was\", secret_number)\n"
      ],
      "metadata": {
        "colab": {
          "base_uri": "https://localhost:8080/"
        },
        "id": "elpCcL-JCQzA",
        "outputId": "02a8ea49-9467-46ee-9bef-6159d95a0312"
      },
      "execution_count": null,
      "outputs": [
        {
          "output_type": "stream",
          "name": "stdout",
          "text": [
            "Guess the number (between 1 and 10): 0\n",
            "Your guess is out of range. Please guess a number between 1 and 10.\n",
            "Guess the number (between 1 and 10): 12\n",
            "Your guess is out of range. Please guess a number between 1 and 10.\n",
            "Guess the number (between 1 and 10): 4\n",
            "Too low. Try again.\n",
            "Guess the number (between 1 and 10): 6\n",
            "Too low. Try again.\n",
            "Guess the number (between 1 and 10): 9\n",
            "Too high. Try again.\n",
            "Better luck next time! The correct number was 8\n"
          ]
        }
      ]
    },
    {
      "cell_type": "code",
      "source": [],
      "metadata": {
        "id": "dQUgCXMSiQsI"
      },
      "execution_count": null,
      "outputs": []
    }
  ]
}