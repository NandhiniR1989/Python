{
  "nbformat": 4,
  "nbformat_minor": 0,
  "metadata": {
    "colab": {
      "provenance": []
    },
    "kernelspec": {
      "name": "python3",
      "display_name": "Python 3"
    },
    "language_info": {
      "name": "python"
    }
  },
  "cells": [
    {
      "cell_type": "markdown",
      "source": [
        "**FOR LOOP**"
      ],
      "metadata": {
        "id": "zcywe9zgv-y7"
      }
    },
    {
      "cell_type": "code",
      "source": [
        "Enter = int(input(\"Enter a number for which you want the multiplication table:\"))\n",
        "for i in range(1,11):\n",
        "  result = Enter * i\n",
        "  print(f\"{Enter} * {i} = {result}\")\n"
      ],
      "metadata": {
        "colab": {
          "base_uri": "https://localhost:8080/"
        },
        "id": "frDwXwWOwDa3",
        "outputId": "d2cf8a2f-07b4-4e8a-b534-db5bbd70b641"
      },
      "execution_count": null,
      "outputs": [
        {
          "output_type": "stream",
          "name": "stdout",
          "text": [
            "Enter a number for which you want the multiplication table:6\n",
            "6 * 1 = 6\n",
            "6 * 2 = 12\n",
            "6 * 3 = 18\n",
            "6 * 4 = 24\n",
            "6 * 5 = 30\n",
            "6 * 6 = 36\n",
            "6 * 7 = 42\n",
            "6 * 8 = 48\n",
            "6 * 9 = 54\n",
            "6 * 10 = 60\n"
          ]
        }
      ]
    },
    {
      "cell_type": "markdown",
      "source": [
        "**FUNCTIONS**"
      ],
      "metadata": {
        "id": "DjP0DerEyJBG"
      }
    },
    {
      "cell_type": "code",
      "source": [
        "def calculate_bmi(weight,height):\n",
        "  bmi = weight / (height ** 2)\n",
        "  return bmi\n",
        "\n",
        "weight = float(input(\"Enter your weight in kgs: \"))\n",
        "height =  float(input(\"Enter your height in meters: \"))\n",
        "bmi = calculate_bmi(weight, height)\n",
        "print(f\"Your bmi is : {bmi:.2f}\")\n",
        "if bmi < 18.5:\n",
        "    category = \"Underweight\"\n",
        "elif 18.5 <= bmi < 24.9:\n",
        "    category = \"Normal weight\"\n",
        "elif 25 <= bmi < 29.9:\n",
        "    category = \"Overweight\"\n",
        "else:\n",
        "    category = \"Obesity\"\n",
        "\n",
        "print(f\"You are in the '{category}' category.\")\n",
        "\n"
      ],
      "metadata": {
        "colab": {
          "base_uri": "https://localhost:8080/"
        },
        "id": "x8tHBAdVyQg4",
        "outputId": "f650dadd-2efc-42c0-92a4-d26fd819410f"
      },
      "execution_count": null,
      "outputs": [
        {
          "output_type": "stream",
          "name": "stdout",
          "text": [
            "Enter your weight in kgs: 83\n",
            "Enter your height in meters: 1.69\n",
            "Your bmi is : 29.06\n",
            "You are in the 'Overweight' category.\n"
          ]
        }
      ]
    }
  ]
}