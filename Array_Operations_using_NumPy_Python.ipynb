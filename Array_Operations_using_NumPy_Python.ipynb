{
  "nbformat": 4,
  "nbformat_minor": 0,
  "metadata": {
    "colab": {
      "provenance": []
    },
    "kernelspec": {
      "name": "python3",
      "display_name": "Python 3"
    },
    "language_info": {
      "name": "python"
    }
  },
  "cells": [
    {
      "cell_type": "code",
      "execution_count": null,
      "metadata": {
        "id": "UYhEPckgZEtf"
      },
      "outputs": [],
      "source": [
        "import numpy as np"
      ]
    },
    {
      "cell_type": "markdown",
      "source": [
        "##**CREATE NumPy ARRAYS**"
      ],
      "metadata": {
        "id": "0kJ9-Z9orwI4"
      }
    },
    {
      "cell_type": "code",
      "source": [
        "temperatures_w1 = np.array([22.5, 25.3, 20.8, 23.4, 26.1, 24.8, 21.9]) # Created array\n",
        "type(temperatures_w1)"
      ],
      "metadata": {
        "colab": {
          "base_uri": "https://localhost:8080/"
        },
        "id": "vy-mIE2VhkE_",
        "outputId": "f0f244e0-2b47-4282-cf31-b4ae3ce1fd70"
      },
      "execution_count": null,
      "outputs": [
        {
          "output_type": "execute_result",
          "data": {
            "text/plain": [
              "numpy.ndarray"
            ]
          },
          "metadata": {},
          "execution_count": 3
        }
      ]
    },
    {
      "cell_type": "markdown",
      "source": [
        "##**INSPECTION AND PROPERTIES**"
      ],
      "metadata": {
        "id": "0Ns-tNver_iX"
      }
    },
    {
      "cell_type": "code",
      "source": [
        "temperatures_w1.shape # Shape of the array"
      ],
      "metadata": {
        "colab": {
          "base_uri": "https://localhost:8080/"
        },
        "id": "ePXGbR6-isBd",
        "outputId": "9fd19e80-98bc-4d90-f5f9-a4a43a8d4aa3"
      },
      "execution_count": null,
      "outputs": [
        {
          "output_type": "execute_result",
          "data": {
            "text/plain": [
              "(7,)"
            ]
          },
          "metadata": {},
          "execution_count": 4
        }
      ]
    },
    {
      "cell_type": "code",
      "source": [
        "temperatures_w1.dtype # Data type of the array"
      ],
      "metadata": {
        "colab": {
          "base_uri": "https://localhost:8080/"
        },
        "id": "ozEoYKIXi6Xe",
        "outputId": "57e8d8c9-d67c-45d9-a7b7-e5c48006aac3"
      },
      "execution_count": null,
      "outputs": [
        {
          "output_type": "execute_result",
          "data": {
            "text/plain": [
              "dtype('float64')"
            ]
          },
          "metadata": {},
          "execution_count": 5
        }
      ]
    },
    {
      "cell_type": "code",
      "source": [
        "temperatures_w1.size #No.Of Elements in the array"
      ],
      "metadata": {
        "colab": {
          "base_uri": "https://localhost:8080/"
        },
        "id": "dFDVjt-Wi61n",
        "outputId": "87b602a6-f13f-434a-9aa1-04d7b658ac16"
      },
      "execution_count": null,
      "outputs": [
        {
          "output_type": "execute_result",
          "data": {
            "text/plain": [
              "7"
            ]
          },
          "metadata": {},
          "execution_count": 6
        }
      ]
    },
    {
      "cell_type": "code",
      "source": [
        "temperature = (temperatures_w1 * 9/5) + 32 # Convert Celcius into Fahrenheit\n",
        "print(temperature)"
      ],
      "metadata": {
        "colab": {
          "base_uri": "https://localhost:8080/"
        },
        "id": "vH3yMTsXjXH7",
        "outputId": "ae9b7db3-df2d-4e73-b8b4-362f0ac72c8e"
      },
      "execution_count": null,
      "outputs": [
        {
          "output_type": "stream",
          "name": "stdout",
          "text": [
            "[72.5  77.54 69.44 74.12 78.98 76.64 71.42]\n"
          ]
        }
      ]
    },
    {
      "cell_type": "markdown",
      "source": [
        "##**ARRAY OPERATIONS**"
      ],
      "metadata": {
        "id": "KGvzqr2_rmjz"
      }
    },
    {
      "cell_type": "code",
      "source": [
        "print(\"Minimum Temperature in Celcius: \",np.min(temperatures_w1))\n",
        "print(\"Minimum Temperature in Fahrenheit: \",np.min(temperature))\n",
        "print(\"Maximum Temperature in Celcius: \",np.max(temperatures_w1))\n",
        "print(\"Maximum Temperature in Fahrenheit: \",np.max(temperature))\n",
        "print(\"Average Temperature in Celcius: \",np.mean(temperatures_w1))\n",
        "print(\"Average Temperature in Fahrenheit: \",np.mean(temperature))\n"
      ],
      "metadata": {
        "colab": {
          "base_uri": "https://localhost:8080/"
        },
        "id": "eS5r6vZVp2I8",
        "outputId": "3159d3cc-cc59-4893-919e-cdaa38efc77f"
      },
      "execution_count": null,
      "outputs": [
        {
          "output_type": "stream",
          "name": "stdout",
          "text": [
            "Minimum Temperature in Celcius:  20.8\n",
            "Minimum Temperature in Fahrenheit:  69.44\n",
            "Maximum Temperature in Celcius:  26.1\n",
            "Maximum Temperature in Fahrenheit:  78.98\n",
            "Average Temperature in Celcius:  23.542857142857144\n",
            "Average Temperature in Fahrenheit:  74.37714285714286\n"
          ]
        }
      ]
    },
    {
      "cell_type": "markdown",
      "source": [
        "##**ARRAY SLICING AND INDEXING**"
      ],
      "metadata": {
        "id": "3ZiPDtrDwdY-"
      }
    },
    {
      "cell_type": "code",
      "source": [
        "#Extract the temperatures for the first three days of the week.\n",
        "\n",
        "print(f\"Temperatures for the first three days in Celcius: {temperatures_w1[:3]}\")\n",
        "print(f\"Temperatures for the first three days in Fahrenheit: {temperature[:3]}\")"
      ],
      "metadata": {
        "colab": {
          "base_uri": "https://localhost:8080/"
        },
        "id": "tyRW4GZrwivS",
        "outputId": "5ad9d236-7764-40d8-8b96-f91ac66200ce"
      },
      "execution_count": null,
      "outputs": [
        {
          "output_type": "stream",
          "name": "stdout",
          "text": [
            "Temperatures for the first three days in Celcius: [22.5 25.3 20.8]\n",
            "Temperatures for the first three days in Fahrenheit: [72.5  77.54 69.44]\n"
          ]
        }
      ]
    },
    {
      "cell_type": "code",
      "source": [
        "#Extract the temperatures for the weekend (last two days)\n",
        "print(f\"Temperatures for the weekend in Celcius: {temperatures_w1[-2:]}\")\n",
        "print(f\"Temperatures for the weekend in Fahrenheit: {temperature[-2:]}\")"
      ],
      "metadata": {
        "colab": {
          "base_uri": "https://localhost:8080/"
        },
        "id": "ioCMjLiRxIeF",
        "outputId": "d9ebc68a-d9ab-470a-ebf7-782a36f2ce39"
      },
      "execution_count": null,
      "outputs": [
        {
          "output_type": "stream",
          "name": "stdout",
          "text": [
            "Temperatures for the weekend in Celcius: [24.8 21.9]\n",
            "Temperatures for the weekend in Fahrenheit: [76.64 71.42]\n"
          ]
        }
      ]
    },
    {
      "cell_type": "code",
      "source": [
        "#Extract the temperatures for the middle three days of the week\n",
        "print(f\"Temperatures for the weekend in Celcius: {temperatures_w1[2:5:]}\")\n",
        "print(f\"Temperatures for the weekend in Fahrenheit: {temperature[2:5:]}\")"
      ],
      "metadata": {
        "colab": {
          "base_uri": "https://localhost:8080/"
        },
        "id": "fPwpV3k-xuRo",
        "outputId": "1e334b87-301b-474f-b7a0-cd29f0b2e076"
      },
      "execution_count": null,
      "outputs": [
        {
          "output_type": "stream",
          "name": "stdout",
          "text": [
            "Temperatures for the weekend in Celcius: [20.8 23.4 26.1]\n",
            "Temperatures for the weekend in Fahrenheit: [69.44 74.12 78.98]\n"
          ]
        }
      ]
    },
    {
      "cell_type": "markdown",
      "source": [
        "##**CREATE A 2D ARRAY**\n"
      ],
      "metadata": {
        "id": "rejiPJI6yRGs"
      }
    },
    {
      "cell_type": "code",
      "source": [
        "Row_1 = [22.5, 25.3, 20.8, 23.4, 26.1, 24.8, 21.9]\n",
        "Row_2 = [19.2, 22.5, 21.3, 24.0, 23.5, 22.8, 20.1]\n",
        "temperatures = np.array([Row_1, Row_2])\n",
        "print(temperatures)"
      ],
      "metadata": {
        "colab": {
          "base_uri": "https://localhost:8080/"
        },
        "id": "c5XCAOecyZn5",
        "outputId": "d3b9e0e5-5e1f-43f4-c2e0-dd18a764344e"
      },
      "execution_count": null,
      "outputs": [
        {
          "output_type": "stream",
          "name": "stdout",
          "text": [
            "[[22.5 25.3 20.8 23.4 26.1 24.8 21.9]\n",
            " [19.2 22.5 21.3 24.  23.5 22.8 20.1]]\n"
          ]
        }
      ]
    },
    {
      "cell_type": "markdown",
      "source": [
        "##**INSPECT AND SLICE THE 2D ARRAY**"
      ],
      "metadata": {
        "id": "0X0Sbdt8zuv0"
      }
    },
    {
      "cell_type": "code",
      "source": [
        "temperatures.shape # shape of the 2D Array"
      ],
      "metadata": {
        "colab": {
          "base_uri": "https://localhost:8080/"
        },
        "id": "XntrZyCfz3WY",
        "outputId": "3467e9c7-fd12-426a-fb83-9eeb5096243b"
      },
      "execution_count": null,
      "outputs": [
        {
          "output_type": "execute_result",
          "data": {
            "text/plain": [
              "(2, 7)"
            ]
          },
          "metadata": {},
          "execution_count": 41
        }
      ]
    },
    {
      "cell_type": "code",
      "source": [
        "temperatures.dtype # Data type of the 2D Array"
      ],
      "metadata": {
        "colab": {
          "base_uri": "https://localhost:8080/"
        },
        "id": "87r0nEzr0td-",
        "outputId": "506521b7-2281-41ea-9adc-e975caa10aae"
      },
      "execution_count": null,
      "outputs": [
        {
          "output_type": "execute_result",
          "data": {
            "text/plain": [
              "dtype('float64')"
            ]
          },
          "metadata": {},
          "execution_count": 42
        }
      ]
    },
    {
      "cell_type": "code",
      "source": [
        "temperatures.size # Size of the 2D Array"
      ],
      "metadata": {
        "colab": {
          "base_uri": "https://localhost:8080/"
        },
        "id": "4dqoBH2R0wOc",
        "outputId": "c2a6f7df-50aa-469c-e5b4-3bd18aa140a3"
      },
      "execution_count": null,
      "outputs": [
        {
          "output_type": "execute_result",
          "data": {
            "text/plain": [
              "14"
            ]
          },
          "metadata": {},
          "execution_count": 45
        }
      ]
    },
    {
      "cell_type": "code",
      "source": [
        "# The temperatures for the first week (Row 1).\n",
        "week1_temperatures = temperatures[0, :]\n",
        "print(f\"Temperatures for the first week: {week1_temperatures}\")"
      ],
      "metadata": {
        "colab": {
          "base_uri": "https://localhost:8080/"
        },
        "id": "PxeQrSLu03Nm",
        "outputId": "1887bd73-db76-4643-eec3-0876103495f3"
      },
      "execution_count": null,
      "outputs": [
        {
          "output_type": "stream",
          "name": "stdout",
          "text": [
            "Temperatures for the first week: [22.5 25.3 20.8 23.4 26.1 24.8 21.9]\n"
          ]
        }
      ]
    },
    {
      "cell_type": "code",
      "source": [
        "#The temperatures for the second week (Row 2)\n",
        "week2_temperatures = temperatures[1, :]\n",
        "print(f\"Temperatures for the second week: {week2_temperatures}\")"
      ],
      "metadata": {
        "colab": {
          "base_uri": "https://localhost:8080/"
        },
        "id": "L2i0qp4Z19Aj",
        "outputId": "0e769def-3f34-4d14-b2cb-eec9fe35a9aa"
      },
      "execution_count": null,
      "outputs": [
        {
          "output_type": "stream",
          "name": "stdout",
          "text": [
            "Temperatures for the second week: [19.2 22.5 21.3 24.  23.5 22.8 20.1]\n"
          ]
        }
      ]
    },
    {
      "cell_type": "code",
      "source": [
        "#The temperatures for the first three days of each week\n",
        "temperatures[:, :3]"
      ],
      "metadata": {
        "colab": {
          "base_uri": "https://localhost:8080/"
        },
        "id": "tURqsjCV2Nq6",
        "outputId": "1b1fd85c-e5af-436d-de66-490fde581573"
      },
      "execution_count": null,
      "outputs": [
        {
          "output_type": "execute_result",
          "data": {
            "text/plain": [
              "array([[22.5, 25.3, 20.8],\n",
              "       [19.2, 22.5, 21.3]])"
            ]
          },
          "metadata": {},
          "execution_count": 48
        }
      ]
    },
    {
      "cell_type": "code",
      "source": [
        "#The temperatures for the weekends (last two days) of both weeks\n",
        "temperatures[:, -2:]"
      ],
      "metadata": {
        "colab": {
          "base_uri": "https://localhost:8080/"
        },
        "id": "2W6SNxzc2w6u",
        "outputId": "da53d6ca-7e10-44e2-8b14-8d3db83cedfb"
      },
      "execution_count": null,
      "outputs": [
        {
          "output_type": "execute_result",
          "data": {
            "text/plain": [
              "array([[24.8, 21.9],\n",
              "       [22.8, 20.1]])"
            ]
          },
          "metadata": {},
          "execution_count": 49
        }
      ]
    }
  ]
}